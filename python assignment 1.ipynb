{
 "cells": [
  {
   "cell_type": "code",
   "execution_count": 1,
   "id": "700921dd-e82c-4353-b14d-0f81a01d621b",
   "metadata": {},
   "outputs": [
    {
     "name": "stdin",
     "output_type": "stream",
     "text": [
      "enter first number: 10.5\n",
      "enter second number: 20.0\n",
      "enter third number: 5.5\n"
     ]
    },
    {
     "name": "stdout",
     "output_type": "stream",
     "text": [
      "the sum of the three numbers is: 36.0\n",
      "the average of the three numbers is: 12.0\n"
     ]
    }
   ],
   "source": [
    "#question1\n",
    "n1=float(input(\"enter first number:\"))\n",
    "n2=float(input(\"enter second number:\"))\n",
    "n3=float(input(\"enter third number:\"))\n",
    "sum=n1+n2+n3\n",
    "avg=sum/3\n",
    "print(\"the sum of the three numbers is:\",sum)\n",
    "print(\"the average of the three numbers is:\",avg)"
   ]
  },
  {
   "cell_type": "code",
   "execution_count": 2,
   "id": "6c68e09e-221d-4d96-9500-7b0b650c2fec",
   "metadata": {},
   "outputs": [
    {
     "name": "stdin",
     "output_type": "stream",
     "text": [
      "enter radius of sphere: 6\n"
     ]
    },
    {
     "name": "stdout",
     "output_type": "stream",
     "text": [
      "volume of sphere is: 904.3199999999999\n"
     ]
    }
   ],
   "source": [
    "#question2\n",
    "r=int(input(\"enter radius of sphere:\"))\n",
    "pi=3.14\n",
    "vol=4/3*pi*(r*r*r)\n",
    "print(\"volume of sphere is:\",vol)"
   ]
  },
  {
   "cell_type": "code",
   "execution_count": 3,
   "id": "d9f9f55a-4033-44a0-bee0-96a934213ba6",
   "metadata": {},
   "outputs": [
    {
     "name": "stdin",
     "output_type": "stream",
     "text": [
      "enter radius of circle: 10\n"
     ]
    },
    {
     "name": "stdout",
     "output_type": "stream",
     "text": [
      "area of sphere is: 314.0\n"
     ]
    }
   ],
   "source": [
    "#question3\n",
    "r=int(input(\"enter radius of circle:\"))\n",
    "pi=3.14\n",
    "area=pi*(r*r)\n",
    "print(\"area of sphere is:\",area)"
   ]
  },
  {
   "cell_type": "code",
   "execution_count": 4,
   "id": "17e02df5-01d0-4cf4-83ce-1b8c32f3c810",
   "metadata": {},
   "outputs": [
    {
     "name": "stdin",
     "output_type": "stream",
     "text": [
      "Enter the principal amount:  1000.0\n",
      "Enter the rate of interest (in %):  10.0\n",
      "Enter the time period (in years):  2.0\n"
     ]
    },
    {
     "name": "stdout",
     "output_type": "stream",
     "text": [
      "The simple interest is: 200.00\n"
     ]
    }
   ],
   "source": [
    "#question4\n",
    "def calculate_simple_interest(principal, rate, time):\n",
    "    simple_interest = (principal * rate * time) / 100\n",
    "    return simple_interest\n",
    "\n",
    "principal = float(input(\"Enter the principal amount: \"))\n",
    "rate = float(input(\"Enter the rate of interest (in %): \"))\n",
    "time = float(input(\"Enter the time period (in years): \"))\n",
    "simple_interest = calculate_simple_interest(principal, rate, time)\n",
    "print(f\"The simple interest is: {simple_interest:.2f}\")"
   ]
  },
  {
   "cell_type": "code",
   "execution_count": 5,
   "id": "c6481f90-3a90-4315-91a7-8b4b20012afe",
   "metadata": {},
   "outputs": [
    {
     "name": "stdin",
     "output_type": "stream",
     "text": [
      "enter a number: 10\n",
      "enter a number: 0\n"
     ]
    },
    {
     "name": "stdout",
     "output_type": "stream",
     "text": [
      "the numbers after swapping are:\n",
      "value of a is: 0\n",
      "value of b is: 10\n"
     ]
    }
   ],
   "source": [
    "#question5\n",
    "a=int(input(\"enter a number:\"))\n",
    "b=int(input(\"enter a number:\"))\n",
    "a=a+b\n",
    "b=a-b\n",
    "a=a-b\n",
    "print(\"the numbers after swapping are:\")\n",
    "print(\"value of a is:\",a)\n",
    "print(\"value of b is:\",b)"
   ]
  },
  {
   "cell_type": "code",
   "execution_count": 6,
   "id": "8afccb33-52a5-4fc6-b578-90fd2d5bd5ce",
   "metadata": {},
   "outputs": [
    {
     "name": "stdin",
     "output_type": "stream",
     "text": [
      "Enter the temperature in Celsius:  98.0\n"
     ]
    },
    {
     "name": "stdout",
     "output_type": "stream",
     "text": [
      "The temperature in Fahrenheit is: 208.40°F\n"
     ]
    }
   ],
   "source": [
    "#question6\n",
    "def celsius_to_fahrenheit(celsius):\n",
    "    fahrenheit = (celsius * 9/5) + 32\n",
    "    return fahrenheit\n",
    "celsius = float(input(\"Enter the temperature in Celsius: \"))\n",
    "fahrenheit = celsius_to_fahrenheit(celsius)\n",
    "print(f\"The temperature in Fahrenheit is: {fahrenheit:.2f}°F\")"
   ]
  },
  {
   "cell_type": "code",
   "execution_count": 9,
   "id": "674c5a97-1cc5-4233-bec9-770eb0b5f81b",
   "metadata": {},
   "outputs": [
    {
     "name": "stdin",
     "output_type": "stream",
     "text": [
      "Enter the number of days:  445\n"
     ]
    }
   ],
   "source": [
    "#question7\n",
    "def convert_days(total_days):\n",
    "    years = total_days // 365  \n",
    "    remaining_days = total_days % 365  \n",
    "    months = remaining_days // 30  \n",
    "    remaining_days = remaining_days % 30  \n",
    "    weeks = remaining_days // 7  \n",
    "    days = remaining_days % 7  \n",
    "    return years, months, weeks, days\n",
    "total_days = int(input(\"Enter the number of days: \"))\n",
    "years, months, weeks, days = convert_days(total_days)"
   ]
  },
  {
   "cell_type": "code",
   "execution_count": 10,
   "id": "3d9c7b87-c595-483d-9d4c-91c096c5c554",
   "metadata": {},
   "outputs": [
    {
     "name": "stdin",
     "output_type": "stream",
     "text": [
      "Enter the mass of the first object (in kg):  10.0\n",
      "Enter the mass of the second object (in kg):  20.0\n",
      "Enter the distance between the two objects (in meters):  5.0\n"
     ]
    },
    {
     "name": "stdout",
     "output_type": "stream",
     "text": [
      "The gravitational force between the two objects is: 5.34e-10 N\n"
     ]
    }
   ],
   "source": [
    "#question8\n",
    "def calculate_gravitational_force(m1, m2, r):\n",
    "    \n",
    "    G = 6.67430e-11\n",
    "    force = G * (m1 * m2) / (r ** 2)\n",
    "    return force\n",
    "\n",
    "\n",
    "mass1 = float(input(\"Enter the mass of the first object (in kg): \"))\n",
    "mass2 = float(input(\"Enter the mass of the second object (in kg): \"))\n",
    "distance = float(input(\"Enter the distance between the two objects (in meters): \"))\n",
    "gravitational_force = calculate_gravitational_force(mass1, mass2, distance)\n",
    "print(f\"The gravitational force between the two objects is: {gravitational_force:.2e} N\")"
   ]
  },
  {
   "cell_type": "code",
   "execution_count": 12,
   "id": "9a73234b-0a6b-48bd-8fb9-ad39f097db68",
   "metadata": {},
   "outputs": [
    {
     "name": "stdin",
     "output_type": "stream",
     "text": [
      "Enter a number:  4\n"
     ]
    },
    {
     "name": "stdout",
     "output_type": "stream",
     "text": [
      "Even\n"
     ]
    }
   ],
   "source": [
    "#question9\n",
    "def check_even_odd(number):\n",
    "    if number % 2 == 0:\n",
    "        print(\"Even\")\n",
    "    else:\n",
    "        return (\"Odd\")\n",
    "num = int(input(\"Enter a number: \"))\n",
    "result = check_even_odd(num)\n",
    "\n"
   ]
  },
  {
   "cell_type": "code",
   "execution_count": 13,
   "id": "2291c230-9081-4970-a9a9-52f2aef4f439",
   "metadata": {},
   "outputs": [
    {
     "name": "stdin",
     "output_type": "stream",
     "text": [
      "enter an integer: 10\n"
     ]
    },
    {
     "name": "stdout",
     "output_type": "stream",
     "text": [
      "result is: 20\n"
     ]
    }
   ],
   "source": [
    "#question10\n",
    "n=int(input(\"enter an integer:\"))\n",
    "if(n>15):\n",
    "    print(\"result is:\",2*(n-15))\n",
    "elif(n==15):\n",
    "    print(\"result is:\",n)\n",
    "elif(n<15):\n",
    "    print(\"result is:\",4*(15-n))\n"
   ]
  },
  {
   "cell_type": "code",
   "execution_count": 14,
   "id": "66bac2ce-1f0f-4fc4-9275-181f63a9f035",
   "metadata": {},
   "outputs": [
    {
     "name": "stdin",
     "output_type": "stream",
     "text": [
      "Enter first number:  26\n",
      "Enter second number:  15\n",
      "Enter third number:  52\n"
     ]
    },
    {
     "name": "stdout",
     "output_type": "stream",
     "text": [
      "The largest number is 52.0\n"
     ]
    }
   ],
   "source": [
    "#question11\n",
    "num1 = int(input(\"Enter first number: \"))\n",
    "num2 = int(input(\"Enter second number: \"))\n",
    "num3 = int(input(\"Enter third number: \"))\n",
    "\n",
    "if (num1 >= num2) and (num1 >= num3):\n",
    "   largest = num1\n",
    "elif (num2 >= num1) and (num2 >= num3):\n",
    "   largest = num2\n",
    "else:\n",
    "   largest = num3\n",
    "\n",
    "print(\"The largest number is\", largest)"
   ]
  },
  {
   "cell_type": "code",
   "execution_count": 15,
   "id": "19477d86-fe69-4ff2-9333-0b0f1c74e51a",
   "metadata": {},
   "outputs": [
    {
     "name": "stdin",
     "output_type": "stream",
     "text": [
      "Enter the length of the first side:  10.5\n",
      "Enter the length of the second side:  13.0\n",
      "Enter the length of the third side:  10.5\n"
     ]
    },
    {
     "name": "stdout",
     "output_type": "stream",
     "text": [
      "The triangle is: Isosceles triangle\n"
     ]
    }
   ],
   "source": [
    "#question12\n",
    "def triangle_type(side1, side2, side3):\n",
    "    if side1 <= 0 or side2 <= 0 or side3 <= 0:\n",
    "        return \"Invalid triangle sides. All sides must be positive.\"\n",
    "    \n",
    "    if side1 == side2 == side3:\n",
    "        return \"Equilateral triangle\"\n",
    "    elif side1 == side2 or side2 == side3 or side1 == side3:\n",
    "        return \"Isosceles triangle\"\n",
    "    else:\n",
    "        return \"Scalene triangle\"\n",
    "\n",
    "\n",
    "side1 = float(input(\"Enter the length of the first side: \"))\n",
    "side2 = float(input(\"Enter the length of the second side: \"))\n",
    "side3 = float(input(\"Enter the length of the third side: \"))\n",
    "result = triangle_type(side1, side2, side3)\n",
    "print(f\"The triangle is: {result}\")"
   ]
  },
  {
   "cell_type": "code",
   "execution_count": 21,
   "id": "348f0106-3ace-4e9d-abdc-877aac4e5f39",
   "metadata": {},
   "outputs": [
    {
     "name": "stdin",
     "output_type": "stream",
     "text": [
      "Enter a year:  2024\n"
     ]
    },
    {
     "name": "stdout",
     "output_type": "stream",
     "text": [
      "2024 is a leap year.\n"
     ]
    }
   ],
   "source": [
    "#question13\n",
    "def is_leap_year(year):\n",
    "    if (year % 4 == 0 and year % 100 != 0) or (year % 400 == 0):\n",
    "        return True\n",
    "    else:\n",
    "        return False\n",
    "year = int(input(\"Enter a year: \"))\n",
    "if is_leap_year(year):\n",
    "    print(f\"{year} is a leap year.\")\n",
    "else:\n",
    "    print(f\"{year} is not a leap year.\")"
   ]
  },
  {
   "cell_type": "code",
   "execution_count": 24,
   "id": "3c460a20-769e-4019-b415-aaa8a36f0ce6",
   "metadata": {},
   "outputs": [
    {
     "name": "stdin",
     "output_type": "stream",
     "text": [
      "Enter the first number:  10.0\n",
      "Enter the second number:  20.0\n",
      "Enter the operator (+, -, *, /):  *\n"
     ]
    },
    {
     "name": "stdout",
     "output_type": "stream",
     "text": [
      "The result is: 200.0\n"
     ]
    }
   ],
   "source": [
    "#question15\n",
    "def calculate(num1, num2, operator):\n",
    "    if operator == '+':\n",
    "        return num1 + num2\n",
    "    elif operator == '-':\n",
    "        return num1 - num2\n",
    "    elif operator == '*':\n",
    "        return num1 * num2\n",
    "    elif operator == '/':\n",
    "        if num2 != 0:\n",
    "            return num1 / num2\n",
    "        else:\n",
    "            return \"Error! Division by zero.\"\n",
    "    else:\n",
    "        return \"Invalid operator.\"\n",
    "\n",
    "\n",
    "num1 = float(input(\"Enter the first number: \"))\n",
    "num2 = float(input(\"Enter the second number: \"))\n",
    "operator = input(\"Enter the operator (+, -, *, /): \")\n",
    "result = calculate(num1, num2, operator)\n",
    "print(f\"The result is: {result}\")"
   ]
  },
  {
   "cell_type": "code",
   "execution_count": 25,
   "id": "51de32e3-02ab-4e6b-a85f-f80ba0045b57",
   "metadata": {},
   "outputs": [
    {
     "name": "stdout",
     "output_type": "stream",
     "text": [
      "The solution are (-3+0j) and (-2+0j)\n"
     ]
    }
   ],
   "source": [
    "#question16\n",
    "import cmath\n",
    "\n",
    "a = 1\n",
    "b = 5\n",
    "c = 6\n",
    "\n",
    "d = (b**2) - (4*a*c)\n",
    "\n",
    "sol1 = (-b-cmath.sqrt(d))/(2*a)\n",
    "sol2 = (-b+cmath.sqrt(d))/(2*a)\n",
    "\n",
    "print('The solution are {0} and {1}'.format(sol1,sol2))"
   ]
  },
  {
   "cell_type": "code",
   "execution_count": 26,
   "id": "9bae6bd8-6110-4eee-9bad-3193e6cdef3c",
   "metadata": {},
   "outputs": [
    {
     "name": "stdin",
     "output_type": "stream",
     "text": [
      "Enter a positive integer n:  10\n"
     ]
    },
    {
     "name": "stdout",
     "output_type": "stream",
     "text": [
      "1\n",
      "2\n",
      "3\n",
      "4\n",
      "5\n",
      "6\n",
      "7\n",
      "8\n",
      "9\n",
      "10\n"
     ]
    }
   ],
   "source": [
    "#question17\n",
    "n = int(input(\"Enter a positive integer n: \"))\n",
    "for i in range(1, n + 1):\n",
    "    print(i)"
   ]
  },
  {
   "cell_type": "code",
   "execution_count": 27,
   "id": "94460058-9a7f-4210-98b7-b68e2db264ad",
   "metadata": {},
   "outputs": [
    {
     "name": "stdin",
     "output_type": "stream",
     "text": [
      "Enter a positive integer n:  10\n"
     ]
    },
    {
     "name": "stdout",
     "output_type": "stream",
     "text": [
      "The sum of natural numbers from 1 to 10 is: 55\n"
     ]
    }
   ],
   "source": [
    "#question18\n",
    "n = int(input(\"Enter a positive integer n: \"))\n",
    "sum_natural = 0\n",
    "for i in range(1, n + 1):\n",
    "    sum_natural += i\n",
    "print(f\"The sum of natural numbers from 1 to {n} is: {sum_natural}\")"
   ]
  },
  {
   "cell_type": "code",
   "execution_count": 28,
   "id": "3734d982-9c99-4fb9-ba63-ae60817c4628",
   "metadata": {},
   "outputs": [
    {
     "name": "stdin",
     "output_type": "stream",
     "text": [
      "Enter a positive integer:  342\n"
     ]
    },
    {
     "name": "stdout",
     "output_type": "stream",
     "text": [
      "The sum of the digits of 342 is: 9\n"
     ]
    }
   ],
   "source": [
    "#quesion19\n",
    "def sum_of_digits(number):\n",
    "    total = 0\n",
    "    while number > 0:\n",
    "        digit = number % 10  \n",
    "        total += digit       \n",
    "        number //= 10        \n",
    "    \n",
    "    return total\n",
    "num = int(input(\"Enter a positive integer: \"))\n",
    "result = sum_of_digits(num)\n",
    "print(f\"The sum of the digits of {num} is: {result}\")"
   ]
  },
  {
   "cell_type": "code",
   "execution_count": 29,
   "id": "29c1554b-0f54-4857-81f6-e8792f038615",
   "metadata": {},
   "outputs": [
    {
     "name": "stdin",
     "output_type": "stream",
     "text": [
      "Enter a positive integer:  24\n"
     ]
    },
    {
     "name": "stdout",
     "output_type": "stream",
     "text": [
      "Factors of 24 are:\n",
      "1\n",
      "2\n",
      "3\n",
      "4\n",
      "6\n",
      "8\n",
      "12\n",
      "24\n"
     ]
    }
   ],
   "source": [
    "#question20\n",
    "def print_factors(number):\n",
    "    print(f\"Factors of {number} are:\")\n",
    "    for i in range(1, number + 1):\n",
    "        if number % i == 0:\n",
    "            print(i)\n",
    "\n",
    "num = int(input(\"Enter a positive integer: \"))\n",
    "print_factors(num)"
   ]
  },
  {
   "cell_type": "code",
   "execution_count": 30,
   "id": "10c1bde0-5d64-4d81-84e5-45e536d43435",
   "metadata": {},
   "outputs": [
    {
     "name": "stdin",
     "output_type": "stream",
     "text": [
      "Enter a number:  42\n"
     ]
    },
    {
     "name": "stdout",
     "output_type": "stream",
     "text": [
      "Reversed Number: 24\n"
     ]
    }
   ],
   "source": [
    "#question21\n",
    "def reverse_number(num):\n",
    "    reversed_num = str(num)[::-1]\n",
    "    return int(reversed_num) \n",
    "\n",
    "number = int(input(\"Enter a number: \"))\n",
    "reversed_number = reverse_number(number)\n",
    "print(\"Reversed Number:\", reversed_number)"
   ]
  },
  {
   "cell_type": "code",
   "execution_count": 31,
   "id": "52f490c7-006b-4118-bacd-97fcf6ce1185",
   "metadata": {},
   "outputs": [
    {
     "name": "stdin",
     "output_type": "stream",
     "text": [
      "Enter a number:  5\n"
     ]
    },
    {
     "name": "stdout",
     "output_type": "stream",
     "text": [
      "Factorial (Iterative): 120\n"
     ]
    }
   ],
   "source": [
    "#question22\n",
    "def factorial_iterative(n):\n",
    "    if n < 0:\n",
    "        return \"Factorial is not defined for negative numbers.\"\n",
    "    result = 1\n",
    "    for i in range(2, n + 1):\n",
    "        result *= i\n",
    "    return result\n",
    "number = int(input(\"Enter a number: \"))\n",
    "print(\"Factorial (Iterative):\", factorial_iterative(number))"
   ]
  },
  {
   "cell_type": "code",
   "execution_count": 32,
   "id": "ea65c82b-23a3-4d99-bb04-f68e329be06a",
   "metadata": {},
   "outputs": [
    {
     "name": "stdin",
     "output_type": "stream",
     "text": [
      "Enter a number:  23\n"
     ]
    },
    {
     "name": "stdout",
     "output_type": "stream",
     "text": [
      "23 is not a palindrome.\n"
     ]
    }
   ],
   "source": [
    "#question23\n",
    "def is_palindrome(num):\n",
    "    \n",
    "    str_num = str(num)\n",
    "    return str_num == str_num[::-1]\n",
    "number = int(input(\"Enter a number: \"))\n",
    "if is_palindrome(number):\n",
    "    print(f\"{number} is a palindrome.\")\n",
    "else:\n",
    "    print(f\"{number} is not a palindrome.\")"
   ]
  },
  {
   "cell_type": "code",
   "execution_count": 33,
   "id": "7c27e651-b2e0-428d-8389-1bfc1308a1cb",
   "metadata": {},
   "outputs": [
    {
     "name": "stdin",
     "output_type": "stream",
     "text": [
      "Enter a number:  9\n"
     ]
    },
    {
     "name": "stdout",
     "output_type": "stream",
     "text": [
      "9 is not a prime number.\n"
     ]
    }
   ],
   "source": [
    "#question24\n",
    "def is_prime(num):\n",
    "    if num <= 1:\n",
    "        return False  \n",
    "    for i in range(2, int(num**0.5) + 1):\n",
    "        if num % i == 0:\n",
    "            return False  \n",
    "    return True  \n",
    "\n",
    "number = int(input(\"Enter a number: \"))\n",
    "if is_prime(number):\n",
    "    print(f\"{number} is a prime number.\")\n",
    "else:\n",
    "    print(f\"{number} is not a prime number.\")"
   ]
  },
  {
   "cell_type": "code",
   "execution_count": 37,
   "id": "589d6f8f-9014-46ba-8f7c-5a522625d868",
   "metadata": {},
   "outputs": [
    {
     "name": "stdin",
     "output_type": "stream",
     "text": [
      "Enter a number:  153\n"
     ]
    },
    {
     "name": "stdout",
     "output_type": "stream",
     "text": [
      "153 is an Armstrong number\n"
     ]
    }
   ],
   "source": [
    "#question25\n",
    "num = int(input(\"Enter a number: \"))\n",
    "sum = 0\n",
    "temp = num\n",
    "while temp > 0:\n",
    "   digit = temp % 10\n",
    "   sum += digit ** 3\n",
    "   temp //= 10\n",
    "\n",
    "if num == sum:\n",
    "   print(num,\"is an Armstrong number\")\n",
    "else:\n",
    "   print(num,\"is not an Armstrong number\")"
   ]
  },
  {
   "cell_type": "code",
   "execution_count": 38,
   "id": "bdf8f799-3495-4d34-ad44-e0cba540b13e",
   "metadata": {},
   "outputs": [
    {
     "name": "stdin",
     "output_type": "stream",
     "text": [
      "Enter the number of terms in the Fibonacci series:  5\n"
     ]
    },
    {
     "name": "stdout",
     "output_type": "stream",
     "text": [
      "Fibonacci series:\n",
      "[0, 1, 1, 2, 3]\n"
     ]
    }
   ],
   "source": [
    "#question27\n",
    "def fibonacci_series(n):\n",
    "    fib_series = []\n",
    "    a, b = 0, 1  \n",
    "    for _ in range(n):\n",
    "        fib_series.append(a)\n",
    "        a, b = b, a + b  \n",
    "    return fib_series\n",
    "\n",
    "\n",
    "n = int(input(\"Enter the number of terms in the Fibonacci series: \"))\n",
    "if n <= 0:\n",
    "    print(\"Please enter a positive integer.\")\n",
    "else:\n",
    "    print(\"Fibonacci series:\")\n",
    "    print(fibonacci_series(n))"
   ]
  },
  {
   "cell_type": "code",
   "execution_count": 40,
   "id": "7f2481cd-6f4d-4c63-8436-60f6b20d4efd",
   "metadata": {},
   "outputs": [
    {
     "name": "stdin",
     "output_type": "stream",
     "text": [
      "Enter a number to display its multiplication table:  6\n",
      "Enter the number of terms for the multiplication table (default is 10):  10\n"
     ]
    },
    {
     "name": "stdout",
     "output_type": "stream",
     "text": [
      "Multiplication Table for 6:\n",
      "6 x 1 = 6\n",
      "6 x 2 = 12\n",
      "6 x 3 = 18\n",
      "6 x 4 = 24\n",
      "6 x 5 = 30\n",
      "6 x 6 = 36\n",
      "6 x 7 = 42\n",
      "6 x 8 = 48\n",
      "6 x 9 = 54\n",
      "6 x 10 = 60\n"
     ]
    }
   ],
   "source": [
    "#questio28\n",
    "def multiplication_table(num, terms=10):\n",
    "    print(f\"Multiplication Table for {num}:\")\n",
    "    for i in range(1, terms + 1):\n",
    "        print(f\"{num} x {i} = {num * i}\")\n",
    "\n",
    "\n",
    "number = int(input(\"Enter a number to display its multiplication table: \"))\n",
    "terms = int(input(\"Enter the number of terms for the multiplication table (default is 10): \") or 10)\n",
    "\n",
    "multiplication_table(number, terms)"
   ]
  },
  {
   "cell_type": "code",
   "execution_count": 41,
   "id": "49b4b388-a983-40e6-8109-01b32ad9db90",
   "metadata": {},
   "outputs": [
    {
     "name": "stdin",
     "output_type": "stream",
     "text": [
      "Enter size of list  4\n",
      "Enter element of list  6\n",
      "Enter element of list  9\n",
      "Enter element of list  1\n",
      "Enter element of list  3\n"
     ]
    },
    {
     "name": "stdout",
     "output_type": "stream",
     "text": [
      "largest in  [6, 9, 1, 3] is\n",
      "9\n"
     ]
    }
   ],
   "source": [
    "#question30\n",
    "def largest(list):\n",
    "    list.sort()\n",
    "    return list[-1]\n",
    "\n",
    "li=[]\n",
    "n=int(input(\"Enter size of list \"))\n",
    "for i in range(0,n):\n",
    "    e=int(input(\"Enter element of list \"))\n",
    "    li.append(e)\n",
    "\n",
    "print(\"largest in \",li,\"is\")\n",
    "print(largest(li))"
   ]
  },
  {
   "cell_type": "code",
   "execution_count": 42,
   "id": "db4b3560-50d1-4270-a34c-8973c494d6e4",
   "metadata": {},
   "outputs": [
    {
     "name": "stdout",
     "output_type": "stream",
     "text": [
      "Element found at index:  6\n"
     ]
    }
   ],
   "source": [
    "#question31\n",
    "def linearSearch(array1, n, x):\n",
    "    for i in range(0, n):\n",
    "        if array1[i] == x:\n",
    "            return i\n",
    "    return -1\n",
    "\n",
    "array = [2, 4, 5, 6, 8, 0, 1, 9]\n",
    "x = 1\n",
    "n = len(array)\n",
    "res = linearSearch(array, n, x)\n",
    "if res == -1:\n",
    "    print(\"Element not found\")\n",
    "else:\n",
    "    print(\"Element found at index: \", res)"
   ]
  },
  {
   "cell_type": "code",
   "execution_count": 43,
   "id": "3b333efa-7b28-491e-9263-ce4d844b96cc",
   "metadata": {},
   "outputs": [
    {
     "name": "stdout",
     "output_type": "stream",
     "text": [
      "Enter lines of text (press 'Enter' twice to stop):\n"
     ]
    },
    {
     "name": "stdin",
     "output_type": "stream",
     "text": [
      " Hello world Practice makes perfect\n",
      " Hello world Practice makes perfect\n",
      " \n"
     ]
    },
    {
     "name": "stdout",
     "output_type": "stream",
     "text": [
      "HELLO WORLD PRACTICE MAKES PERFECT\n",
      "HELLO WORLD PRACTICE MAKES PERFECT\n"
     ]
    }
   ],
   "source": [
    "#question32\n",
    "def capitalize_lines():\n",
    "    print(\"Enter lines of text (press 'Enter' twice to stop):\")\n",
    "    lines = []\n",
    "    \n",
    "    while True:\n",
    "        line = input()\n",
    "        if line == \"\": \n",
    "            break\n",
    "        lines.append(line)\n",
    "\n",
    "    for line in lines:\n",
    "        print(line.upper())\n",
    "capitalize_lines()"
   ]
  },
  {
   "cell_type": "code",
   "execution_count": 44,
   "id": "ea54c010-6e79-4a5d-b333-bb5d4cad4f36",
   "metadata": {},
   "outputs": [
    {
     "name": "stdin",
     "output_type": "stream",
     "text": [
      "Enter a sequence of comma-separated numbers:  34,67,55,33,12,98\n"
     ]
    },
    {
     "name": "stdout",
     "output_type": "stream",
     "text": [
      "List: ['34', '67', '55', '33', '12', '98']\n",
      "Tuple: ('34', '67', '55', '33', '12', '98')\n"
     ]
    }
   ],
   "source": [
    "#question33\n",
    "def generate_list_and_tuple():\n",
    "   \n",
    "    user_input = input(\"Enter a sequence of comma-separated numbers: \")\n",
    "    number_list = user_input.split(\",\")\n",
    "    number_tuple = tuple(number_list)\n",
    "    print(\"List:\", number_list)\n",
    "    print(\"Tuple:\", number_tuple)\n",
    "\n",
    "generate_list_and_tuple()"
   ]
  },
  {
   "cell_type": "code",
   "execution_count": null,
   "id": "3ac9763e-06cf-4a75-8ac9-5fb88afd79bf",
   "metadata": {},
   "outputs": [],
   "source": []
  }
 ],
 "metadata": {
  "kernelspec": {
   "display_name": "Python 3 (ipykernel)",
   "language": "python",
   "name": "python3"
  },
  "language_info": {
   "codemirror_mode": {
    "name": "ipython",
    "version": 3
   },
   "file_extension": ".py",
   "mimetype": "text/x-python",
   "name": "python",
   "nbconvert_exporter": "python",
   "pygments_lexer": "ipython3",
   "version": "3.11.7"
  }
 },
 "nbformat": 4,
 "nbformat_minor": 5
}
